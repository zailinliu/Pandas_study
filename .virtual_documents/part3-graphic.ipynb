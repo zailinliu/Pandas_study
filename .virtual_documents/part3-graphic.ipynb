# 데이터 처리 - 가공하는 명령
import pandas as pd

df = pd.read_csv('./data/auto-mpg.csv', header=None)
df.columns = ['mpg', 'cylinders', 'displacement', 'horsepower', 'weight', 'acceleration', 'model year', 'origin', 'name']
df.tail()


# 데이터 요약정보
df.shape  # (행의 갯수, 열의갯수)


df.info()


df.describe()  # 숫자자료형 확인


df.describe(include='object')  # 문자자료형 확인


# 데이터 개수 확인
df.count()


# 최대값 확인
df.max()
df['weight'].max()  # 특정범위의 최대값 확인


# 표준편차
df.std(numeric_only=True)  # 숫자형 자료만 확인
# mpg,weight 열만 표준편차 확인
df[['mpg', 'weight']].std()


# 상관계수
df.corr(numeric_only=True)


# 문제 1)
import pandas as pd

data = {'이름': ['철수', '영희', '민수', '지영', '수지'],
        '수학': [88, 92, 75, 95, 80]}
df = pd.DataFrame(data)
df.mean(numeric_only=True)


# 문제 2)
data = {'이름': ['A', 'B', 'C', 'D', 'E', 'F'],
        '키': [170, 165, 180, 175, 160, 185]}
df = pd.DataFrame(data)
df['키'].median()


# 문제 3)
data = {'고객ID': [101, 102, 103, 104, 105, 106, 107, 108],
        '구매_상품수': [2, 3, 3, 2, 4, 2, 3, 3]}
df = pd.DataFrame(data)
df['구매_상품수'].mode()


# 문제 4)
data = {'이름': ['홍길동', '임꺽정', '장길산', '이순신'],
        '몸무게': [65, 70, 75, 80]}
df = pd.DataFrame(data)
print(df['몸무게'].var())
df['몸무게'].mean()


# 문제 5)
data = {'직원': ['A', 'B', 'C', 'D', 'E', 'F'],
        '주간_근무시간': [38, 40, 42, 37, 45, 41]}
df = pd.DataFrame(data)

print(df.mean(numeric_only=True))
print(df.median(numeric_only=True))
df.describe()


# 그래프 도구
import pandas as pd

df = pd.read_excel('./data/남북한발전전력량.xlsx')
df_ns = df.iloc[[0, 5], 3:]  # 데이터 추출
df_ns.index = ['South', 'North']
df_ns = df_ns.astype(int)  # 자료형태 object -> int형 변환

df_ns.info()  # 자료형태 보기
df_ns.head()  # 데이터프레임 출력


# 선 그래프 - 이용분야 시계열 데이터
# df_ns.plot()
tdf = df_ns.T  # 행 열 바꾸기
tdf.head()
tdf.plot()


from matplotlib import font_manager, rc
font_path = './data/malgun.ttf'
font_name = font_manager.FontProperties(fname=font_path).get_name()
rc('font', family=font_name)
import pandas as pd
import numpy as np
import matplotlib.pyplot as plt

get_ipython().run_line_magic("matplotlib", " inline")

np.random.seed(0)
df = pd.DataFrame({
    '월': ['1월', '2월', '3월', '4월'],
    '매출': [250, 270, 300, 280],
    '지출': [200, 230, 250, 240]
})

df_random = pd.DataFrame({
    '점수': np.random.normal(loc=70, scale=10, size=100),
    '키': np.random.normal(170, 10, 100),
    '몸무게': np.random.normal(65, 15, 100)
})

df.plot(x='월', y=['매출', '지출'], kind='line', marker='o')
plt.title('월별 매출 및 지출 추이')
plt.ylabel('금액')
plt.show()


# 선 그래프 - 이용분야 시계열 데이터
tdf = df_ns.T  # 행 열 바꾸기

# 남북한전력형황 추이
tdf.plot(y=['South', 'North'], kind='line', marker='o')
plt.title('남북한전력현황 추이')
plt.xlabel('연도')
plt.ylabel('전력량')
plt.show()


# 막대그래프 - 각 열의 차이를 비교
tdf.head()
tdf.plot(kind='bar')
plt.show()


# 수평 막대그래프
tdf.head()
tdf.plot(kind='barh')
plt.show()


# 히스토그램  - 빈도 수
tdf.head()
tdf.plot(kind='hist')
plt.show()


# 히스토그램  - 빈도 수
tdf.head()
tdf.plot(kind='hist', alpha=0.5, figsize=(6, 2), grid=True, color='red')
plt.show()


# 산점도 - 두 변수 (열, 변량, 컬럼, 항목) 관계성
import pandas as pd
df = pd.read_csv('./data/auto-mpg.csv', header=None)
df.columns = ['mpg', 'cylinders', 'displacement', 'horsepower', 'weight', 'acceleration', 'model year', 'origin', 'name']

df_random.plot(kind='scatter', x='키', y='몸무게', alpha=0.5)
plt.title('키 vs 몸무게 산점도')
plt.show()


# 박스플롯 - 데이터 분포, 분산정도
import pandas as pd
df = pd.read_csv('./data/auto-mpg.csv', header=None)
df.columns = ['mpg', 'cylinders', 'displacement', 'horsepower', 'weight', 'acceleration', 'model year', 'origin', 'name']

df[['mpg', 'cylinders']].plot(kind='box')
plt.title('점수 박스플롯')
plt.show()


# 커널 밀도 그래프
import pandas as pd
df = pd.read_csv('./data/auto-mpg.csv', header=None)
df.columns = ['mpg', 'cylinders', 'displacement', 'horsepower', 'weight', 'acceleration', 'model year', 'origin', 'name']

df_random['점수'].plot(kind='kde')
plt.title('점수 커널 밀도 추정')
plt.xlabel('점수')
plt.show()


# 면적 그래프
np.random.seed(0)
df = pd.DataFrame({
    '월': ['1월', '2월', '3월', '4월'],
    '매출': [250, 270, 300, 280],
    '지출': [200, 230, 250, 240]
})

df_random = pd.DataFrame({
    '점수': np.random.normal(loc=70, scale=10, size=100),
    '키': np.random.normal(170, 10, 100),
    '몸무게': np.random.normal(65, 15, 100)
})


df.set_index('월')[['매출', '지출']].plot(kind='area', alpha=0.5)
plt.title('면적 그래프 예시')
plt.ylabel('금액')
plt.show()


# 파이 그래프
np.random.seed(0)
df = pd.DataFrame({
    '월': ['1월', '2월', '3월', '4월'],
    '매출': [250, 270, 300, 280],
    '지출': [200, 230, 250, 240]
})

df_random = pd.DataFrame({
    '점수': np.random.normal(loc=70, scale=10, size=100),
    '키': np.random.normal(170, 10, 100),
    '몸무게': np.random.normal(65, 15, 100)
})


df_sum = df[['매출', '지출']].sum()
df_sum.plot(kind='pie', autopct='%1.1f%%', startangle=90)
plt.title('전체 매출/지출 비율')
plt.ylabel('')
plt.show()


# 고밀도 산점 그래프
np.random.seed(0)
df = pd.DataFrame({
    '월': ['1월', '2월', '3월', '4월'],
    '매출': [250, 270, 300, 280],
    '지출': [200, 230, 250, 240]
})

df_random = pd.DataFrame({
    '점수': np.random.normal(loc=70, scale=10, size=100),
    '키': np.random.normal(170, 10, 100),
    '몸무게': np.random.normal(65, 15, 100)
})


df_random.plot(kind='hexbin', x='키', y='몸무게', gridsize=25, cmap='viridis')
plt.title('키 vs 몸무게 고밀도 산점도')
plt.show()



