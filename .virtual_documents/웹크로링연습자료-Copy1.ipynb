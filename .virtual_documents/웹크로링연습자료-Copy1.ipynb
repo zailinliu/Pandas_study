
































































































































# 가져오기
import requests as rq
url = 'https://quotes.toscrape.com/'
quote = rq.get(url)
quote


quote.content[0:1000] # HTML코드보기


# HTML로 파싱하기
from bs4 import BeautifulSoup as bs
quote_html = bs(quote.content, 'lxml')
quote_html


# 필요한 태그 선택하기
quote_div = quote_html.find_all('div', class_='quote')
quote_div[0]


quote_span = quote_div[0].find_all('span', class_='text')
quote_span


quote_span[0].text


fs_list = []
for i in quote_div:
    spans = i.find_all('span', class_='text')
    if spans:
        fs_list.append( spans[0].text)
fs_list
# 같은 코드
fs = [i.find_all('span', class_='text')[0].text for i in quote_div]
fs


# 리스트 컴프리헨션
fs = [i.find_all('span', class_='text')[0].text for i in quote_div]
fs


quote_text = quote_html.select( 'div.quote > span.text' )
quote_text


quote_text[0].text


quote_text_list = [ i.text for i in quote_text ]
quote_text_list


quote_author = quote_html.select( 'div.quote > span > small.author' )
quote_author


quote_author_text = [i.text for i in quote_author]
quote_author_text


quote_a = quote_html.select( 'div.quote > span > a' )
quote_a


quote_a = quote_html.select( 'div.quote > span > a' )
quote_a[0] ['href']
quote_a_list = [i['href'] for i in quote_a]
quote_a_list


quote_a_list = ['https://quotes.toscrape.com' + i['href'] for i in quote_a]
quote_a_list



