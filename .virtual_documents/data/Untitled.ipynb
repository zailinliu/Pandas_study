# 데이터 처리 - 가공하는 명령
import pandas as pd

df = pd.read_csv('./data/auto-mpg.csv', header=None)
df.head()



