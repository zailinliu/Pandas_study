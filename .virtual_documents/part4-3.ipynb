# 면적 그래프 
import pandas as pd
import matplotlib.pyplot as plt
# 한글 처리
from matplotlib import font_manager, rc
font_path = './data/malgun.ttf'
font_name = font_manager.FontProperties(fname = font_path).get_name()
rc('font', family=font_name)
# 데이터 불러오기
df = pd.read_excel('./data-4/시도별_전출입_인구수.xlsx')
df.head()
# 누락값(NaN)을 앞 데이터로 채움(엑셀 양식 병합부분)
df = df.ffill()
df.head()
# 서울에서 다른 지역으로 이동한 데이터만 추출하여 정리
mask = (df['전출지별'] == '서울특별시') & (df['전입지별'] != '서울특별시')
df_seoul = df[mask]
# 전출지별 열을 삭제하기
df_seoul = df_seoul.drop(['전출지별'], axis=1)
# '전입지별'을 '전입지' 열이름 변경하기
df_seoul = df_seoul.rename({'전입지별': '전입지'}, axis=1)
df_seoul
# 전입지 열을 행 인덱스로 만들기
df_seoul = df_seoul.set_index('전입지')
df_seoul.head()
col_years = list( map(str, range(1970,2018) ) ) # ['1970', '1971']
df_4 = df_seoul.loc[ ['충청남도', '경상북도', '강원도', '전라남도'], col_years ]
df_4


df_4 = df_4.T
df_4


# df_4.plot()
# df_4[['강원도', '전라남도']].plot()
ax = df_4.plot(kind='area', stacked=False, alpha=0.2, figsize=(20, 10))
print(type(ax), '~~')
print(type(df_4))


df_4.index = df_4.index.astype(int)
df_4.index
df_4.plot(kind='bar', figsize=(20, 5), width=0.5, color=['orange', 'green', 'blue', 'red'])
plt.title('서울 -> 타지역 이동 인구수', size=20)
plt.ylabel('이동인구수', size=10)
plt.xlabel('기간', size=10)
plt.legend(loc='best', fontsize=20)
plt.show()


df_4 = df_4.loc[[1970, 1975, 1980, 1985, 1990, 1995, 2000, 2005, 2010, 2015], :]


df_4.index = df_4.index.astype(int)
df_4.index
df_4.plot(kind='barh', figsize=(20, 5), width=0.7, color=['orange', 'green', 'blue', 'red'])
plt.title('서울 -> 타지역 이동 인구수', size=20)
plt.ylabel('이동인구수', size=10)
plt.xlabel('기간', size=10)
plt.legend(loc='best', fontsize=20)
plt.show()


# 인구수 합계 구하기
df_4['합계'] = df_4.sum(axis=1)
df_4


import pandas as pd
import matplotlib.pyplot as plt
from matplotlib import font_manager, rc
font_path = './data/malgun.ttf'
font_name = font_manager.FontProperties(fname = font_path).get_name()
rc('font', family=font_name)

plt.style.use('ggplot')
plt.rcParams['axes.unicode_minus'] = False
df = pd.read_excel('./data-4/남북한발전전력량.xlsx')
df = df.loc[5:9]
df.drop('전력량 (억㎾h)', axis=1, inplace=True)
df.set_index('발전 전력별', inplace=True)
df = df.T
for col in df.columns:
    df[col] = df[col].replace('-', '0')
df = df.astype(float)
df.info()
df = df.rename(columns={'합계': '총발전량'})
df['총발전량-1년'] = df['총발전량'].shift(1)
df['증감률'] = ((df['총발전량'] / df['총발전량-1년'])-1)*100
df


ax1 = df[['수력', '화력']].plot(kind='bar', figsize=(10, 5), width=0.7, stacked=True)
ax2 = ax1.twinx()
ax2.plot(df.index, df['증감률'])
plt.show()


import pandas as pd
import matplotlib.pyplot as plt
from matplotlib import font_manager, rc
font_path = './data/malgun.ttf'
font_name = font_manager.FontProperties(fname = font_path).get_name()
rc('font', family=font_name)

plt.style.use('ggplot')
plt.rcParams['axes.unicode_minus'] = False
df = pd.read_excel('./data-4/남북한발전전력량.xlsx')
df = df.loc[0:4]
df.drop('전력량 (억㎾h)', axis=1, inplace=True)
df.set_index('발전 전력별', inplace=True)
df = df.T
for col in df.columns:
    df[col] = df[col].replace('-', '0')
df = df.astype(float)
df.info()
df = df.rename(columns={'합계': '총발전량'})
df['총발전량-1년'] = df['총발전량'].shift(1)
df['증감률'] = ((df['총발전량'] / df['총발전량-1년'])-1)*100
ax1 = df.plot(kind='barh', figsize=(10, 5), width=0.8, stacked=True)
ax2 = df[['원자력', '화력']].plot(kind='bar', figsize=(10, 5), width=0.7, stacked=False)
ax3 = ax2.twinx()
ax3.plot(df.index, df['증감률'])


import pandas as pd
import matplotlib.pyplot as plt
from matplotlib import font_manager, rc
font_path = './data/malgun.ttf'
font_name = font_manager.FontProperties(fname = font_path).get_name()
rc('font', family=font_name)

plt.style.use('ggplot')
plt.rcParams['axes.unicode_minus'] = False
df = pd.read_excel('./data-4/남북한발전전력량.xlsx')
df = df.loc[0:9]
df.drop('전력량 (억㎾h)', axis=1, inplace=True)
df.set_index('발전 전력별', inplace=True)
df = df.T
for col in df.columns:
    df[col] = df[col].replace('-', '0')
df = df.astype(float)
df.info()
df = df.rename(columns={'합계': '총발전량'})
ax2 = df['화력'].plot(kind='bar', figsize=(10, 5), width=0.7, stacked=False)



