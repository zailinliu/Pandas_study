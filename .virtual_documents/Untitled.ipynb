# 시각화 도구
import pandas as pd
from matplotlib import pyplot as plt

df = pd.read_excel('./data-4/시도별_전출입_인구수.xlsx')
df.head()



