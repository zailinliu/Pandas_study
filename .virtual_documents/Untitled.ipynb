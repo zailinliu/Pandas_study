# 면적 그래프 
import pandas as pd
import matplotlib.pyplot as plt
# 한글 처리
from matplotlib import font_manager, rc
font_path = './data/malgun.ttf'
font_name = font_manager.FontProperties(fname = font_path).get_name()
rc('font', family=font_name)
# 데이터 불러오기
df = pd.read_excel('./data-4/시도별_전출입_인구수.xlsx')
df.head()
# 누락값(NaN)을 앞 데이터로 채움(엑셀 양식 병합부분)
df = df.ffill()
df.head()
# 서울에서 다른 지역으로 이동한 데이터만 추출하여 정리
mask = (df['전출지별'] == '서울특별시') & (df['전입지별'] != '서울특별시')
df_seoul = df[mask]
# 전출지별 열을 삭제하기
df_seoul = df_seoul.drop(['전출지별'], axis=1)
# '전입지별'을 '전입지' 열이름 변경하기
df_seoul = df_seoul.rename({'전입지별': '전입지'}, axis=1)
df_seoul
# 전입지 열을 행 인덱스로 만들기
df_seoul = df_seoul.set_index('전입지')
df_seoul.head()
col_years = list( map(str, range(1970,2018) ) ) # ['1970', '1971']
df_4 = df_seoul.loc[ ['충청남도', '경상북도', '강원도', '전라남도'], col_years ]
df_4


df_4 = df_4.T
df_4


df_4.plot()
