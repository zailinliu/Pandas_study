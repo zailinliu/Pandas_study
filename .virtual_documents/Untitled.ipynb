import pandas as pd
from matplotlib import pyplot as plt

plt.plot([1, 2, 3, 4])
plt.show


plt.plot([1, 2, 3, 4], [1, 4, 9, 16])
plt.show


plt.plot([1, 2, 3, 4], [1, 4, 9, 16], 'ro')  # x축값, y축값, 마커형식
plt.axis([0, 6, 0, 20])  # 축의 범위
plt.show


import numpy as np
t = np.arange(0., 5., 0.2)  # 0. 부터 5.0 미만까지 0.2간격으로 등차수열을 만들어냄
t
plt.plot(t, t, 'r--', t, t**2, 'b^', t, t**3, 'gs')


plt.plot([1, 2, 3, 4], [2, 3, 5, 10])


data_dict = {'data_x': [1, 2, 3, 4, 5], 'data_y': [2, 3, 5, 10, 8]}
plt.plot('data_x', 'data_y', data=data_dict)


# 1. 기본 사용하기
plt.plot([1, 4, 9, 16])
plt.xlabel('x_label', labelpad=15)
plt.ylabel('y_label', labelpad=20)
plt.show


# 기본사용하려면 plot안에 label을 쓰고 plt.legend() 범례표시해야함.
plt.plot([1, 2, 3, 4], [2, 3, 5, 10], label='line1')
plt.xlabel('x_label', labelpad=10)
plt.ylabel('y_label', labelpad=10)
plt.legend()
plt.show()


# 위치 지정하기
plt.plot([1, 2, 3, 4], [2, 3, 5, 10], label='Price($)')
plt.xlabel('x_label', labelpad=10)
plt.ylabel('y_label', labelpad=10)
plt.legend(loc=(0.78, 0.02))
plt.show()


plt.plot([2, 3, 5, 10], label='Price($)')
plt.plot([2, 5, 9, 7], label='Demand(#)')
plt.xlabel('x_label', labelpad=10)
plt.ylabel('y_label', labelpad=10)
plt.legend(loc=(0.48, 0.01), ncol=2)
plt.show()


plt.plot([1, 2, 3, 4], [2, 3, 5, 10])
plt.xlim([0, 5])
plt.ylim([0, 20])
plt.show()


plt.plot([1, 2, 3, 4], [2, 3, 5, 10])
plt.axis((0, 5, 0, 20))
plt.show()


# 선종류 변경하기
# Linestyle, Solid '-', dashed '--', Dotted ':', Dash-dot'-.'
plt.plot([4, 4, 4], 'r-', label='solid')
plt.plot([3, 3, 3], 'b--', label='dashed')
plt.plot([2, 2, 2], 'g:', label='dotted')
plt.plot([1, 1, 1], 'y-.', label='dash-dot')
plt.axis((0.8, 3.2, 0.5, 5))
plt.show()


# 그래프영역 채우기
# fill_between() - 두 수평 방향의 곡선 사이를 채운다
# fill_betweenx() - 두 수직 방향의 곡선 사이를 채운다
# fill() - 다각형 영역을 채운다

x = [1, 2, 3, 4]
y = [2, 3, 5, 10]
plt.plot(x,y)
plt.fill_between(x[2:4], y[2:4], alpha=0.5)
plt.show()


x = [1, 2, 3, 4]
y = [2, 3, 5, 10]
plt.plot(x,y)
plt.fill_betweenx(y[2:4], x[2:4], alpha=0.5)
plt.show()


x = [1, 2, 3, 4]
y1 = [2, 3, 5, 10]
y2 = [1, 2, 4, 8]
plt.plot(x,y1)
plt.plot(x,y2)
plt.fill_between(x[1:3], y1[1:3], y2[1:3], alpha=0.6)
plt.show()



