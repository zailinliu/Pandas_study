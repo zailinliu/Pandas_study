from bs4 import BeautifulSoup
import requests
import re
import pandas as pd


# url = "https://search.naver.com/search.naver?where=nexearch&sm=top_sug.pre&fbm=0&acr=1&acq=dudghktnsdnl&qdt=0&ie=utf8&query=%EC%98%81%ED%99%94%EC%88%9C%EC%9C%84&ackey=f9tr2dqd"
# resp = requests.get(url)
# soup = BeautifulSoup(resp.text, 'lxml')
# rows = soup.select('div > ul > li')
# rows


url = "https://en.wikipedia.org/wiki/List_of_American_exchange-traded_funds"
resp = requests.get(url)
soup = BeautifulSoup(resp.text, 'lxml')
rows = soup.select('div > ul > li')
rows[1]


rows[1]


etfs = {}
for row in rows:
    try:
        etf_name = re.findall("(.+?)\s\(", row.text)
        etf_market = re.findall("\((.+?):", row.text)
        etf_ticker = re.findall(":\s(.+)\)", row.text)
        if (len(etf_ticker) > 0) & (len(etf_market) > 0) & (len(etf_name) > 0) : etfs[etf_ticker[0]] = [etf_market[0], etf_name[0]] 
    except AttributeError as err:
        pass
etfs


df = pd.DataFrame(etfs)
df.set_index(['ITOT'])



