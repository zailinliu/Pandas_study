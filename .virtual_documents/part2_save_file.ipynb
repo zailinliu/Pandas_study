import pandas as pd
data = {'name': ['Jerry', 'Rich', 'Paul'], 'algol': ['A', 'A+', 'B'], 'basic': ['C', 'B', 'B+'], 'c++': ['B+', 'C', 'C+']}
df = pd.DataFrame(data)
df = df.set_index('name')
df


df.to_csv('./data/df_sample_0423.csv')
df.to_csv('./data/df_sample_0423_index.csv', index=False)


import pandas as pd
data = {'name': ['Jerry', 'Rich', 'Paul'], 'algol': ['A', 'A+', 'B'], 'basic': ['C', 'B', 'B+'], 'c++': ['B+', 'C', 'C+']}
df = pd.DataFrame(data)
df = df.set_index('name')
df


df.to_json('./data/df_sample_0423_basic.json')


df.to_json('./data/df_sample_0423_split.json', orient='split')


df.to_json('./data/df_sample_0423_records.json', orient='records')


df.to_json('./data/df_sample_0423_index.json', orient='index')


df.to_json('./data/df_sample_0423_columns.json', orient='columns')


df.to_json('./data/df_sample_0423_values.json', orient='values')


# Excel파일로 저장하기
import pandas as pd
data1 = {'name': ['Jerry', 'Rich', 'Paul'], 'algol': ['A', 'A+', 'B'], 'basic': ['C', 'B', 'B+'], 'c++': ['B+', 'C', 'C+']}
data2 = {'c0': ['1', '2', '3'], 'c1': ['4', '5', '6'], 'c2': ['7', '8', '9'], 'c3': ['10', '11', '12']}

df1 = pd.DataFrame(data1)
df1 = df1.set_index('name')      #name 열을 인덱스로 지정

df2 = pd.DataFrame(data2)
df2 = df2.set_index('c0')        #c0 열을 인덱스로 지정# print(df2)
with pd.ExcelWriter('./data/excelwriter_0423.xlsx') as writer:
    df1.to_excel(writer, sheet_name = "학점")
    df2.to_excel(writer, sheet_name = "가중치")
