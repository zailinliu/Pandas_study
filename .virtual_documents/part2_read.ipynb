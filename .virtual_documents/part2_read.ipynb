import pandas as pd
import os

os.listdir('./data')


s_name = os.path.join('./data','df_sample.csv')
print(s_name)
sample = pd.read_csv('./data/df_sample.csv')
sample
test = pd.read_csv('./data/test.csv')
test



s_name = os.path.join('./data','df_sample.csv')
print(s_name)
sample = pd.read_csv('./data/df_sample.csv', header = 0, index_col = 'name') # 행을 열 이름으로 쓰기
sample


# excel파일 불러오기
ex1 = pd.read_excel('./data/남북한발전전력량.xlsx')
# 문자 변수로 저장하고 변수 이용해서 불러오기
ex2_file = './data/df_excelwriter.xlsx'
ex2 = pd.read_excel(ex2_file)
ex2
# os.path.join 함수 이용해서 불러오기
ex3_file = os.path.join('./data','df_sample_no_index.xlsx')
ex3 = pd.read_excel( ex3_file )
ex3


ex1 = pd.read_excel('./data/남북한발전전력량.xlsx', header = 0, index_col = [0])
ex1



json1 = pd.read_json("./data/sample.json")
json1


df1 = pd.DataFrame({'name':['홍길동', '이순신'], 'age' : [10,20]})
df1
file_name = './data/user_name_age.csv'
df1.to_csv(file_name) # 저장하기


csv1 = pd.read_csv(file_name, encoding = 'utf-8', index_col = 'age')
csv1


csv1 = pd.read_csv(file_name, encoding = 'utf-8', usecols = [1,2])
csv1


df1 = pd.DataFrame({'name':['홍길동', '이순신'], 'age' : [20,50]})
df1
file_name = './data/user_name_age.csv'
df1.to_csv(file_name) # 저장하기


csv1 = pd.read_csv(file_name, encoding = 'utf-8')
csv1


csv1 = pd.read_csv(file_name, encoding = 'utf-8', dtype = {'name' : str, 'age': int})
csv1


csv1 = pd.read_csv(s_name, encoding='utf-8', dtype={'name':str, 'age':int})
csv1


# 문제 1)
csv_ex1 = pd.read_csv('./data/read_csv_sample.csv', index_col = [0])
csv_ex1


# 문제 2)
pd.read_excel('./data/남북한발전전력량.xlsx', encoding = 'utf-8', header = 0)


pd.read_excel('./data/남북한발전전력량.xlsx', sheet_name = 'data', header =0, index_col = [0])


pd.read_excel('./data/남북한발전전력량.xlsx', sheet_name = 'data', usecols = 'C:AC')


pd.read_json('./data/user_1.json', orient = "index") # 키를 인덱스로 사용


pd.read_json('./data/user_1.json', orient = "colums") # 키를 컴럼으로 사용


pd.read_json('./data/user_1.json', typ = "series") 


# <Table>로 만들어진 HTML파일만 가능
tables = pd.read_html('./data/sample.html')
tables
print(len(tables))
for i in range(len(tables)) : # i = 0, 1
     print("tables[%s]"%i)
     print(tables[i])
     print("\n")
df = tables[1]
df.set_index(['name'])



