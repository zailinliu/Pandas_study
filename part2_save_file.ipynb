{
 "cells": [
  {
   "cell_type": "code",
   "execution_count": 1,
   "id": "2ababf53-e247-497f-863a-906c894a645f",
   "metadata": {},
   "outputs": [
    {
     "data": {
      "text/html": [
       "<div>\n",
       "<style scoped>\n",
       "    .dataframe tbody tr th:only-of-type {\n",
       "        vertical-align: middle;\n",
       "    }\n",
       "\n",
       "    .dataframe tbody tr th {\n",
       "        vertical-align: top;\n",
       "    }\n",
       "\n",
       "    .dataframe thead th {\n",
       "        text-align: right;\n",
       "    }\n",
       "</style>\n",
       "<table border=\"1\" class=\"dataframe\">\n",
       "  <thead>\n",
       "    <tr style=\"text-align: right;\">\n",
       "      <th></th>\n",
       "      <th>algol</th>\n",
       "      <th>basic</th>\n",
       "      <th>c++</th>\n",
       "    </tr>\n",
       "    <tr>\n",
       "      <th>name</th>\n",
       "      <th></th>\n",
       "      <th></th>\n",
       "      <th></th>\n",
       "    </tr>\n",
       "  </thead>\n",
       "  <tbody>\n",
       "    <tr>\n",
       "      <th>Jerry</th>\n",
       "      <td>A</td>\n",
       "      <td>C</td>\n",
       "      <td>B+</td>\n",
       "    </tr>\n",
       "    <tr>\n",
       "      <th>Rich</th>\n",
       "      <td>A+</td>\n",
       "      <td>B</td>\n",
       "      <td>C</td>\n",
       "    </tr>\n",
       "    <tr>\n",
       "      <th>Paul</th>\n",
       "      <td>B</td>\n",
       "      <td>B+</td>\n",
       "      <td>C+</td>\n",
       "    </tr>\n",
       "  </tbody>\n",
       "</table>\n",
       "</div>"
      ],
      "text/plain": [
       "      algol basic c++\n",
       "name                 \n",
       "Jerry     A     C  B+\n",
       "Rich     A+     B   C\n",
       "Paul      B    B+  C+"
      ]
     },
     "execution_count": 1,
     "metadata": {},
     "output_type": "execute_result"
    }
   ],
   "source": [
    "import pandas as pd\n",
    "data = {'name': ['Jerry', 'Rich', 'Paul'], 'algol': ['A', 'A+', 'B'], 'basic': ['C', 'B', 'B+'], 'c++': ['B+', 'C', 'C+']}\n",
    "df = pd.DataFrame(data)\n",
    "df = df.set_index('name')\n",
    "df"
   ]
  },
  {
   "cell_type": "code",
   "execution_count": 29,
   "id": "c5c85709-c154-48f7-99e8-397b8283cca8",
   "metadata": {},
   "outputs": [],
   "source": [
    "df.to_csv('./data/df_sample_0423.csv')\n",
    "df.to_csv('./data/df_sample_0423_index.csv', index=False)"
   ]
  },
  {
   "cell_type": "code",
   "execution_count": 5,
   "id": "ae0adb98-783c-4eb5-b4ab-36e7babd6f32",
   "metadata": {},
   "outputs": [
    {
     "data": {
      "text/html": [
       "<div>\n",
       "<style scoped>\n",
       "    .dataframe tbody tr th:only-of-type {\n",
       "        vertical-align: middle;\n",
       "    }\n",
       "\n",
       "    .dataframe tbody tr th {\n",
       "        vertical-align: top;\n",
       "    }\n",
       "\n",
       "    .dataframe thead th {\n",
       "        text-align: right;\n",
       "    }\n",
       "</style>\n",
       "<table border=\"1\" class=\"dataframe\">\n",
       "  <thead>\n",
       "    <tr style=\"text-align: right;\">\n",
       "      <th></th>\n",
       "      <th>algol</th>\n",
       "      <th>basic</th>\n",
       "      <th>c++</th>\n",
       "    </tr>\n",
       "    <tr>\n",
       "      <th>name</th>\n",
       "      <th></th>\n",
       "      <th></th>\n",
       "      <th></th>\n",
       "    </tr>\n",
       "  </thead>\n",
       "  <tbody>\n",
       "    <tr>\n",
       "      <th>Jerry</th>\n",
       "      <td>A</td>\n",
       "      <td>C</td>\n",
       "      <td>B+</td>\n",
       "    </tr>\n",
       "    <tr>\n",
       "      <th>Rich</th>\n",
       "      <td>A+</td>\n",
       "      <td>B</td>\n",
       "      <td>C</td>\n",
       "    </tr>\n",
       "    <tr>\n",
       "      <th>Paul</th>\n",
       "      <td>B</td>\n",
       "      <td>B+</td>\n",
       "      <td>C+</td>\n",
       "    </tr>\n",
       "  </tbody>\n",
       "</table>\n",
       "</div>"
      ],
      "text/plain": [
       "      algol basic c++\n",
       "name                 \n",
       "Jerry     A     C  B+\n",
       "Rich     A+     B   C\n",
       "Paul      B    B+  C+"
      ]
     },
     "execution_count": 5,
     "metadata": {},
     "output_type": "execute_result"
    }
   ],
   "source": [
    "import pandas as pd\n",
    "data = {'name': ['Jerry', 'Rich', 'Paul'], 'algol': ['A', 'A+', 'B'], 'basic': ['C', 'B', 'B+'], 'c++': ['B+', 'C', 'C+']}\n",
    "df = pd.DataFrame(data)\n",
    "df = df.set_index('name')\n",
    "df"
   ]
  },
  {
   "cell_type": "code",
   "execution_count": 15,
   "id": "8e08f839-541f-4d3f-99c3-8194768d68ae",
   "metadata": {},
   "outputs": [],
   "source": [
    "df.to_json('./data/df_sample_0423_basic.json')"
   ]
  },
  {
   "cell_type": "code",
   "execution_count": 21,
   "id": "58f06c34-b478-4bc8-a673-0d106f1f2981",
   "metadata": {},
   "outputs": [],
   "source": [
    "df.to_json('./data/df_sample_0423_split.json', orient='split')"
   ]
  },
  {
   "cell_type": "code",
   "execution_count": 25,
   "id": "f8bc31a4-2a5a-469b-b1c9-584b83c54acb",
   "metadata": {},
   "outputs": [],
   "source": [
    "df.to_json('./data/df_sample_0423_records.json', orient='records')"
   ]
  },
  {
   "cell_type": "code",
   "execution_count": 27,
   "id": "1e1ba628-1874-4ac4-a552-7d48769f9399",
   "metadata": {},
   "outputs": [],
   "source": [
    "df.to_json('./data/df_sample_0423_index.json', orient='index')"
   ]
  },
  {
   "cell_type": "code",
   "execution_count": 33,
   "id": "435326a9-a049-407e-8ea7-10df43cbfe7c",
   "metadata": {},
   "outputs": [],
   "source": [
    "df.to_json('./data/df_sample_0423_columns.json', orient='columns')"
   ]
  },
  {
   "cell_type": "code",
   "execution_count": 35,
   "id": "953d68bf-11cc-4aa5-a6d2-84a80db40d35",
   "metadata": {},
   "outputs": [],
   "source": [
    "df.to_json('./data/df_sample_0423_values.json', orient='values')"
   ]
  },
  {
   "cell_type": "code",
   "execution_count": 60,
   "id": "679d1511-cede-485b-90ef-ee9a35c7cfc1",
   "metadata": {},
   "outputs": [],
   "source": [
    "# Excel파일로 저장하기\n",
    "import pandas as pd\n",
    "data1 = {'name': ['Jerry', 'Rich', 'Paul'], 'algol': ['A', 'A+', 'B'], 'basic': ['C', 'B', 'B+'], 'c++': ['B+', 'C', 'C+']}\n",
    "data2 = {'c0': ['1', '2', '3'], 'c1': ['4', '5', '6'], 'c2': ['7', '8', '9'], 'c3': ['10', '11', '12']}\n",
    "\n",
    "df1 = pd.DataFrame(data1)\n",
    "df1 = df1.set_index('name')      #name 열을 인덱스로 지정\n",
    "\n",
    "df2 = pd.DataFrame(data2)\n",
    "df2 = df2.set_index('c0')        #c0 열을 인덱스로 지정# print(df2)\n",
    "with pd.ExcelWriter('./data/excelwriter_0423.xlsx') as writer:\n",
    "    df1.to_excel(writer, sheet_name = \"학점\")\n",
    "    df2.to_excel(writer, sheet_name = \"가중치\")"
   ]
  }
 ],
 "metadata": {
  "kernelspec": {
   "display_name": "Python 3 (ipykernel)",
   "language": "python",
   "name": "python3"
  },
  "language_info": {
   "codemirror_mode": {
    "name": "ipython",
    "version": 3
   },
   "file_extension": ".py",
   "mimetype": "text/x-python",
   "name": "python",
   "nbconvert_exporter": "python",
   "pygments_lexer": "ipython3",
   "version": "3.12.7"
  }
 },
 "nbformat": 4,
 "nbformat_minor": 5
}
