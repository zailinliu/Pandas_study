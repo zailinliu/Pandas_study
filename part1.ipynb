{
 "cells": [
  {
   "cell_type": "code",
   "execution_count": 5,
   "id": "dde1febb-3f03-4748-9ab9-f4fb1cec920a",
   "metadata": {},
   "outputs": [
    {
     "name": "stdout",
     "output_type": "stream",
     "text": [
      "First       Apple_사과\n",
      "Second    Banana_바나나\n",
      "Third      Cherry_체리\n",
      "Fourth           NaN\n",
      "dtype: object\n",
      "\n",
      "First       Apple,사과\n",
      "Second    Banana,바나나\n",
      "Third      Cherry,체리\n",
      "Fourth          <NA>\n",
      "dtype: string\n",
      "\n",
      "First       APPLE_사과\n",
      "Second    BANANA_바나나\n",
      "Third      CHERRY_체리\n",
      "Fourth           NaN\n",
      "dtype: object\n",
      "\n",
      "First       apple,사과\n",
      "Second    banana,바나나\n",
      "Third      cherry,체리\n",
      "Fourth          <NA>\n",
      "dtype: string\n",
      "\n",
      "First       [Apple, 사과]\n",
      "Second    [Banana, 바나나]\n",
      "Third      [Cherry, 체리]\n",
      "Fourth              NaN\n",
      "dtype: object\n",
      "\n",
      "First       [Apple, 사과]\n",
      "Second    [Banana, 바나나]\n",
      "Third      [Cherry, 체리]\n",
      "Fourth             <NA>\n",
      "dtype: object\n",
      "\n"
     ]
    }
   ],
   "source": [
    "import pandas as pd\n",
    "import numpy as np\n",
    "\n",
    "ser = pd.Series({\"First\":\"Apple_사과\",\n",
    "                 \"Second\":\"Banana_바나나\",\n",
    "                 \"Third\":\"Cherry_체리\",\n",
    "                 \"Fourth\": np.nan})\n",
    "print(ser)\n",
    "print()\n",
    "\n",
    "ser2 = pd.Series({\"First\":\"Apple,사과\",\n",
    "                 \"Second\":\"Banana,바나나\",\n",
    "                 \"Third\":\"Cherry,체리\",\n",
    "                 \"Fourth\": None}, dtype = \"string\")\n",
    "print(ser2)\n",
    "print()\n",
    "\n",
    "print(ser.str.upper())\n",
    "print()\n",
    "print(ser2.str.lower())\n",
    "print()\n",
    "\n",
    "print(ser.str.split(\"_\"))\n",
    "print()\n",
    "print(ser2.str.split(\",\"))\n",
    "print()\n",
    "\n",
    "# ex = pd.Series({ 'c0' : 'A:10-20,30-40,40-50',\n",
    "#                 'c1' : 'B:20-50,10-40,30-50'}, dtype = \"string\")\n",
    "# a = ex.str.split('[:\\-\\,]')\n",
    "# print(a)"
   ]
  },
  {
   "cell_type": "code",
   "execution_count": 23,
   "id": "bbef568f-867c-49ea-b81e-b77a2dc9cac6",
   "metadata": {
    "scrolled": true
   },
   "outputs": [
    {
     "name": "stdout",
     "output_type": "stream",
     "text": [
      "c0   NaN\n",
      "c1   NaN\n",
      "dtype: float64\n"
     ]
    },
    {
     "name": "stderr",
     "output_type": "stream",
     "text": [
      "<>:6: SyntaxWarning: invalid escape sequence '\\-'\n",
      "<>:6: SyntaxWarning: invalid escape sequence '\\-'\n",
      "C:\\Users\\607-11\\AppData\\Local\\Temp\\ipykernel_9032\\3279337141.py:6: SyntaxWarning: invalid escape sequence '\\-'\n",
      "  ser1_2_s = ser1.str.split(\"[:\\-]\")\n"
     ]
    }
   ],
   "source": [
    "df = ser.str.split(\"_\",expand = True)\n",
    "get_1 = ser.str.split(\"_\").str.get(0)\n",
    "ser1 = pd.Series(['a-10-b', 'a1-20-b2'], index=['c0','c1'],dtype=\"string\")\n",
    "ser1_s = ser1.str.split(\"_\").str.get(1)\n",
    "print(ser1_s)\n",
    "ser1_2_s = ser1.str.split(\"[:\\-]\")"
   ]
  },
  {
   "cell_type": "code",
   "execution_count": 33,
   "id": "655ea50d-018c-40ab-b8cb-ef8e28df79dc",
   "metadata": {},
   "outputs": [
    {
     "data": {
      "text/plain": [
       "Index(['First', 'Second', 'Third', 'Fourth'], dtype='object')"
      ]
     },
     "execution_count": 33,
     "metadata": {},
     "output_type": "execute_result"
    }
   ],
   "source": [
    "idx = ser.index\n",
    "idx.str.strip()\n",
    "idx.str.lstrip()\n",
    "idx.str.rstrip()"
   ]
  },
  {
   "cell_type": "code",
   "execution_count": null,
   "id": "d1421425-c020-4630-8c30-69a2af59d893",
   "metadata": {},
   "outputs": [],
   "source": [
    "# 정규 표현식 : 문자열의 패턴을 코드해서 패턴에 맞는 것 검색하기\n"
   ]
  },
  {
   "cell_type": "code",
   "execution_count": 43,
   "id": "6c0569c0-9e56-453d-b89a-f0dd261b8f34",
   "metadata": {},
   "outputs": [
    {
     "name": "stderr",
     "output_type": "stream",
     "text": [
      "<>:1: SyntaxWarning: invalid escape sequence '\\s'\n",
      "<>:2: SyntaxWarning: invalid escape sequence '\\-'\n",
      "<>:1: SyntaxWarning: invalid escape sequence '\\s'\n",
      "<>:2: SyntaxWarning: invalid escape sequence '\\-'\n",
      "C:\\Users\\607-11\\AppData\\Local\\Temp\\ipykernel_9032\\144530553.py:1: SyntaxWarning: invalid escape sequence '\\s'\n",
      "  ser.str.replace(\"[^a-zA-Z\\s]\", \"\", regex = True)\n",
      "C:\\Users\\607-11\\AppData\\Local\\Temp\\ipykernel_9032\\144530553.py:2: SyntaxWarning: invalid escape sequence '\\-'\n",
      "  ser.str.replace(\"[a-zA-Z\\-]\", \"\", regex = True)\n"
     ]
    },
    {
     "data": {
      "text/plain": [
       "First      사과\n",
       "Second    바나나\n",
       "Third      체리\n",
       "Fourth    NaN\n",
       "dtype: object"
      ]
     },
     "execution_count": 43,
     "metadata": {},
     "output_type": "execute_result"
    }
   ],
   "source": [
    "ser.str.replace(\"[^a-zA-Z\\s]\", \"\", regex = True)\n",
    "ser.str.replace(\"[a-zA-Z\\-]\", \"\", regex = True)\n",
    "ser.str.replace(\"[^가-힣]\", \"\", regex = True)"
   ]
  },
  {
   "cell_type": "code",
   "execution_count": 45,
   "id": "44cc9b33-5eb3-49d5-99ac-25955c0992dd",
   "metadata": {},
   "outputs": [
    {
     "data": {
      "text/plain": [
       "First      과사\n",
       "Second     나나\n",
       "Third      리체\n",
       "Fourth    NaN\n",
       "dtype: object"
      ]
     },
     "execution_count": 45,
     "metadata": {},
     "output_type": "execute_result"
    }
   ],
   "source": [
    "ser\n",
    "ser.str[-1:-3:-1]\n"
   ]
  },
  {
   "cell_type": "code",
   "execution_count": 47,
   "id": "1712ed22-84b1-455f-8dbc-38b92fd718f2",
   "metadata": {},
   "outputs": [
    {
     "data": {
      "text/plain": [
       "First      True\n",
       "Second     True\n",
       "Third     False\n",
       "Fourth      NaN\n",
       "dtype: object"
      ]
     },
     "execution_count": 47,
     "metadata": {},
     "output_type": "execute_result"
    }
   ],
   "source": [
    "ser.str.contains('A', na = False) # ser안에 'A'가 있는지 검색\n",
    "ser.str.contains(r'[A|B][a-z]+') # r-정규표현식 regex, [A|B] -첫 글자가 A 또는 B [a-z] 두번째"
   ]
  },
  {
   "cell_type": "code",
   "execution_count": 53,
   "id": "ac447fa4-126e-40db-850b-6c6fd9fa4b30",
   "metadata": {},
   "outputs": [
    {
     "name": "stdout",
     "output_type": "stream",
     "text": [
      "<re.Match object; span=(0, 5), match='Apple'>\n",
      "<re.Match object; span=(0, 3), match='Cat'>\n",
      "None\n",
      "None\n",
      "None\n"
     ]
    }
   ],
   "source": [
    "import re\n",
    "pattern = r'[A|C][a-z]+'\n",
    "test_string = ['Apple', 'Cat', 'Hello', 'Bat', 'A']\n",
    "for s in test_string :\n",
    "    match = re.match(pattern, s)\n",
    "    print(match)"
   ]
  },
  {
   "cell_type": "code",
   "execution_count": 100,
   "id": "b9a48707-7c0d-4365-82c4-980e38903e9e",
   "metadata": {},
   "outputs": [
    {
     "data": {
      "text/html": [
       "<div>\n",
       "<style scoped>\n",
       "    .dataframe tbody tr th:only-of-type {\n",
       "        vertical-align: middle;\n",
       "    }\n",
       "\n",
       "    .dataframe tbody tr th {\n",
       "        vertical-align: top;\n",
       "    }\n",
       "\n",
       "    .dataframe thead th {\n",
       "        text-align: right;\n",
       "    }\n",
       "</style>\n",
       "<table border=\"1\" class=\"dataframe\">\n",
       "  <thead>\n",
       "    <tr style=\"text-align: right;\">\n",
       "      <th></th>\n",
       "      <th>0</th>\n",
       "    </tr>\n",
       "  </thead>\n",
       "  <tbody>\n",
       "    <tr>\n",
       "      <th>0</th>\n",
       "      <td>가</td>\n",
       "    </tr>\n",
       "    <tr>\n",
       "      <th>1</th>\n",
       "      <td>나</td>\n",
       "    </tr>\n",
       "    <tr>\n",
       "      <th>2</th>\n",
       "      <td>다</td>\n",
       "    </tr>\n",
       "    <tr>\n",
       "      <th>3</th>\n",
       "      <td>라,마,바</td>\n",
       "    </tr>\n",
       "    <tr>\n",
       "      <th>4</th>\n",
       "      <td>마,바</td>\n",
       "    </tr>\n",
       "    <tr>\n",
       "      <th>5</th>\n",
       "      <td>바</td>\n",
       "    </tr>\n",
       "  </tbody>\n",
       "</table>\n",
       "</div>"
      ],
      "text/plain": [
       "       0\n",
       "0      가\n",
       "1      나\n",
       "2      다\n",
       "3  라,마,바\n",
       "4    마,바\n",
       "5      바"
      ]
     },
     "execution_count": 100,
     "metadata": {},
     "output_type": "execute_result"
    }
   ],
   "source": [
    "#\n",
    "ser3 = pd.Series(['a1', 'b2', 'c3', 'd4e5f9', 'e6f7', 'f8'], dtype = \"string\")\n",
    "# 숫자만 추출하기\n",
    "digits = ser3.str.extractall(r\"(\\d)\").groupby(level=0).agg(','.join)\n",
    "digits\n",
    "# 알파벳만 추출하기\n",
    "letters = ser3.str.extractall(r\"([a-z])\").groupby(level=0).agg(','.join)\n",
    "letters \n",
    "# 대문자 추출기기\n",
    "ser4 = pd.Series(['A1', 'B2', 'C3', 'D4E5F9', 'E6F7', 'F8'], dtype = \"string\")\n",
    "alphabet = ser4.str.extractall(r\"([A-Z])\").groupby(level=0).agg(','.join)\n",
    "alphabet\n",
    "# 한글 추출기기\n",
    "ser5 = pd.Series(['가1', '나2', '다3', '라4마5바9', '마6바7', '바8'], dtype = \"string\")\n",
    "korean = ser5.str.extractall(r\"([가-하])\").groupby(level=0).agg(','.join)\n",
    "korean"
   ]
  },
  {
   "cell_type": "code",
   "execution_count": 102,
   "id": "ac5be860-ee8c-46df-a98f-04d026644d6f",
   "metadata": {},
   "outputs": [
    {
     "name": "stdout",
     "output_type": "stream",
     "text": [
      "  문자 숫자\n",
      "0  a  1\n",
      "1  b  2\n",
      "2  c  3\n",
      "3  d  4\n",
      "4  e  6\n",
      "5  f  8\n"
     ]
    },
    {
     "data": {
      "text/html": [
       "<div>\n",
       "<style scoped>\n",
       "    .dataframe tbody tr th:only-of-type {\n",
       "        vertical-align: middle;\n",
       "    }\n",
       "\n",
       "    .dataframe tbody tr th {\n",
       "        vertical-align: top;\n",
       "    }\n",
       "\n",
       "    .dataframe thead th {\n",
       "        text-align: right;\n",
       "    }\n",
       "</style>\n",
       "<table border=\"1\" class=\"dataframe\">\n",
       "  <thead>\n",
       "    <tr style=\"text-align: right;\">\n",
       "      <th></th>\n",
       "      <th>Letter</th>\n",
       "      <th>Digit</th>\n",
       "    </tr>\n",
       "  </thead>\n",
       "  <tbody>\n",
       "    <tr>\n",
       "      <th>0</th>\n",
       "      <td>a</td>\n",
       "      <td>1</td>\n",
       "    </tr>\n",
       "    <tr>\n",
       "      <th>1</th>\n",
       "      <td>b</td>\n",
       "      <td>2</td>\n",
       "    </tr>\n",
       "    <tr>\n",
       "      <th>2</th>\n",
       "      <td>c</td>\n",
       "      <td>3</td>\n",
       "    </tr>\n",
       "    <tr>\n",
       "      <th>3</th>\n",
       "      <td>def</td>\n",
       "      <td>459</td>\n",
       "    </tr>\n",
       "    <tr>\n",
       "      <th>4</th>\n",
       "      <td>ef</td>\n",
       "      <td>67</td>\n",
       "    </tr>\n",
       "    <tr>\n",
       "      <th>5</th>\n",
       "      <td>f</td>\n",
       "      <td>8</td>\n",
       "    </tr>\n",
       "  </tbody>\n",
       "</table>\n",
       "</div>"
      ],
      "text/plain": [
       "  Letter Digit\n",
       "0      a     1\n",
       "1      b     2\n",
       "2      c     3\n",
       "3    def   459\n",
       "4     ef    67\n",
       "5      f     8"
      ]
     },
     "execution_count": 102,
     "metadata": {},
     "output_type": "execute_result"
    }
   ],
   "source": [
    "# 숫자와 문자를 따로 분리해서\n",
    "split_columns = ser3.str.extract(r\"(?P<문자>[a-z]+)(?P<숫자>\\d+)\")\n",
    "# ?P<name> - 열의 이름을 할당하는 코드\n",
    "print(split_columns)\n",
    "\n",
    "split_columns = ser3.str.extractall(r\"(?P<Letter>[a-z]+)(?P<Digit>\\d+)\").groupby(level=0).agg(\"\".join)\n",
    "split_columns"
   ]
  },
  {
   "cell_type": "code",
   "execution_count": null,
   "id": "e9e14890-d8e7-4935-adda-d993f443b8e6",
   "metadata": {},
   "outputs": [],
   "source": []
  }
 ],
 "metadata": {
  "kernelspec": {
   "display_name": "Python 3 (ipykernel)",
   "language": "python",
   "name": "python3"
  },
  "language_info": {
   "codemirror_mode": {
    "name": "ipython",
    "version": 3
   },
   "file_extension": ".py",
   "mimetype": "text/x-python",
   "name": "python",
   "nbconvert_exporter": "python",
   "pygments_lexer": "ipython3",
   "version": "3.12.7"
  }
 },
 "nbformat": 4,
 "nbformat_minor": 5
}
