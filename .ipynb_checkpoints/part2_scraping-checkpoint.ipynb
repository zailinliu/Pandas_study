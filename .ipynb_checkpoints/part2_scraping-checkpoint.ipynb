{
 "cells": [
  {
   "cell_type": "code",
   "execution_count": 4,
   "id": "5732908e-f665-4971-8757-4c4d0e8c6848",
   "metadata": {},
   "outputs": [],
   "source": [
    "from bs4 import BeautifulSoup\n",
    "import requests\n",
    "import re\n",
    "import pandas as pd"
   ]
  },
  {
   "cell_type": "code",
   "execution_count": 36,
   "id": "32dad2f7-f973-434d-8f8c-5f95c5aae3d1",
   "metadata": {},
   "outputs": [],
   "source": [
    "# url = \"https://search.naver.com/search.naver?where=nexearch&sm=top_sug.pre&fbm=0&acr=1&acq=dudghktnsdnl&qdt=0&ie=utf8&query=%EC%98%81%ED%99%94%EC%88%9C%EC%9C%84&ackey=f9tr2dqd\"\n",
    "# resp = requests.get(url)\n",
    "# soup = BeautifulSoup(resp.text, 'lxml')\n",
    "# rows = soup.select('div > ul > li')\n",
    "# rows"
   ]
  },
  {
   "cell_type": "code",
   "execution_count": 66,
   "id": "52cca50c-fbc9-4692-9650-50959962dec8",
   "metadata": {},
   "outputs": [
    {
     "data": {
      "text/plain": [
       "<li class=\"mw-list-item\" id=\"n-contents\"><a href=\"/wiki/Wikipedia:Contents\" title=\"Guides to browsing Wikipedia\"><span>Contents</span></a></li>"
      ]
     },
     "execution_count": 66,
     "metadata": {},
     "output_type": "execute_result"
    }
   ],
   "source": [
    "url = \"https://en.wikipedia.org/wiki/List_of_American_exchange-traded_funds\"\n",
    "resp = requests.get(url)\n",
    "soup = BeautifulSoup(resp.text, 'lxml')\n",
    "rows = soup.select('div > ul > li')\n",
    "rows[1]"
   ]
  },
  {
   "cell_type": "code",
   "execution_count": 68,
   "id": "1a748f71-e6cc-4619-883c-c283aa1addbb",
   "metadata": {},
   "outputs": [
    {
     "data": {
      "text/plain": [
       "<li class=\"mw-list-item\" id=\"n-contents\"><a href=\"/wiki/Wikipedia:Contents\" title=\"Guides to browsing Wikipedia\"><span>Contents</span></a></li>"
      ]
     },
     "execution_count": 68,
     "metadata": {},
     "output_type": "execute_result"
    }
   ],
   "source": [
    "rows[1]"
   ]
  },
  {
   "cell_type": "code",
   "execution_count": 48,
   "id": "8ea73d24-7aef-4ab2-873a-94f39712494e",
   "metadata": {},
   "outputs": [
    {
     "name": "stderr",
     "output_type": "stream",
     "text": [
      "<>:4: SyntaxWarning: invalid escape sequence '\\s'\n",
      "<>:5: SyntaxWarning: invalid escape sequence '\\('\n",
      "<>:6: SyntaxWarning: invalid escape sequence '\\s'\n",
      "<>:4: SyntaxWarning: invalid escape sequence '\\s'\n",
      "<>:5: SyntaxWarning: invalid escape sequence '\\('\n",
      "<>:6: SyntaxWarning: invalid escape sequence '\\s'\n",
      "C:\\Users\\607-11\\AppData\\Local\\Temp\\ipykernel_5028\\924449097.py:4: SyntaxWarning: invalid escape sequence '\\s'\n",
      "  etf_name = re.findall(\"(.+?)\\s\\(\", row.text)\n",
      "C:\\Users\\607-11\\AppData\\Local\\Temp\\ipykernel_5028\\924449097.py:5: SyntaxWarning: invalid escape sequence '\\('\n",
      "  etf_market = re.findall(\"\\((.+?):\", row.text)\n",
      "C:\\Users\\607-11\\AppData\\Local\\Temp\\ipykernel_5028\\924449097.py:6: SyntaxWarning: invalid escape sequence '\\s'\n",
      "  etf_ticker = re.findall(\":\\s(.+)\\)\", row.text)\n"
     ]
    },
    {
     "data": {
      "text/plain": [
       "{'ITOT': ['NYSE\\xa0Arca', 'iShares Core S&P Total US Stock Mkt'],\n",
       " 'ACWI': ['Nasdaq', 'iShares MSCI ACWI Index'],\n",
       " 'IWV': ['NYSE\\xa0Arca', 'iShares Russell 3000 Index'],\n",
       " 'SCHB': ['NYSE\\xa0Arca', 'Schwab US Broad Market ETF'],\n",
       " 'FNDB': ['NYSE\\xa0Arca', 'Schwab Fundamental U.S. Broad Market Index ETF'],\n",
       " 'VT': ['NYSE\\xa0Arca', 'Vanguard Total World Stock'],\n",
       " 'VTI': ['NYSE\\xa0Arca', 'Vanguard Total Stock Market'],\n",
       " 'VXUS': ['NYSE\\xa0Arca', 'Vanguard Total International Stock'],\n",
       " 'VTHR': ['NYSE\\xa0Arca', 'Vanguard Russell 3000']}"
      ]
     },
     "execution_count": 48,
     "metadata": {},
     "output_type": "execute_result"
    }
   ],
   "source": [
    "etfs = {}\n",
    "for row in rows:\n",
    "    try:\n",
    "        etf_name = re.findall(\"(.+?)\\s\\(\", row.text)\n",
    "        etf_market = re.findall(\"\\((.+?):\", row.text)\n",
    "        etf_ticker = re.findall(\":\\s(.+)\\)\", row.text)\n",
    "        if (len(etf_ticker) > 0) & (len(etf_market) > 0) & (len(etf_name) > 0) : etfs[etf_ticker[0]] = [etf_market[0], etf_name[0]] \n",
    "    except AttributeError as err:\n",
    "        pass\n",
    "etfs"
   ]
  },
  {
   "cell_type": "code",
   "execution_count": 62,
   "id": "c8f8aca3-9cb9-4eb4-bc01-edbdd534ed5f",
   "metadata": {},
   "outputs": [
    {
     "data": {
      "text/html": [
       "<div>\n",
       "<style scoped>\n",
       "    .dataframe tbody tr th:only-of-type {\n",
       "        vertical-align: middle;\n",
       "    }\n",
       "\n",
       "    .dataframe tbody tr th {\n",
       "        vertical-align: top;\n",
       "    }\n",
       "\n",
       "    .dataframe thead th {\n",
       "        text-align: right;\n",
       "    }\n",
       "</style>\n",
       "<table border=\"1\" class=\"dataframe\">\n",
       "  <thead>\n",
       "    <tr style=\"text-align: right;\">\n",
       "      <th></th>\n",
       "      <th>ACWI</th>\n",
       "      <th>IWV</th>\n",
       "      <th>SCHB</th>\n",
       "      <th>FNDB</th>\n",
       "      <th>VT</th>\n",
       "      <th>VTI</th>\n",
       "      <th>VXUS</th>\n",
       "      <th>VTHR</th>\n",
       "    </tr>\n",
       "    <tr>\n",
       "      <th>ITOT</th>\n",
       "      <th></th>\n",
       "      <th></th>\n",
       "      <th></th>\n",
       "      <th></th>\n",
       "      <th></th>\n",
       "      <th></th>\n",
       "      <th></th>\n",
       "      <th></th>\n",
       "    </tr>\n",
       "  </thead>\n",
       "  <tbody>\n",
       "    <tr>\n",
       "      <th>NYSE Arca</th>\n",
       "      <td>Nasdaq</td>\n",
       "      <td>NYSE Arca</td>\n",
       "      <td>NYSE Arca</td>\n",
       "      <td>NYSE Arca</td>\n",
       "      <td>NYSE Arca</td>\n",
       "      <td>NYSE Arca</td>\n",
       "      <td>NYSE Arca</td>\n",
       "      <td>NYSE Arca</td>\n",
       "    </tr>\n",
       "    <tr>\n",
       "      <th>iShares Core S&amp;P Total US Stock Mkt</th>\n",
       "      <td>iShares MSCI ACWI Index</td>\n",
       "      <td>iShares Russell 3000 Index</td>\n",
       "      <td>Schwab US Broad Market ETF</td>\n",
       "      <td>Schwab Fundamental U.S. Broad Market Index ETF</td>\n",
       "      <td>Vanguard Total World Stock</td>\n",
       "      <td>Vanguard Total Stock Market</td>\n",
       "      <td>Vanguard Total International Stock</td>\n",
       "      <td>Vanguard Russell 3000</td>\n",
       "    </tr>\n",
       "  </tbody>\n",
       "</table>\n",
       "</div>"
      ],
      "text/plain": [
       "                                                        ACWI  \\\n",
       "ITOT                                                           \n",
       "NYSE Arca                                             Nasdaq   \n",
       "iShares Core S&P Total US Stock Mkt  iShares MSCI ACWI Index   \n",
       "\n",
       "                                                            IWV  \\\n",
       "ITOT                                                              \n",
       "NYSE Arca                                             NYSE Arca   \n",
       "iShares Core S&P Total US Stock Mkt  iShares Russell 3000 Index   \n",
       "\n",
       "                                                           SCHB  \\\n",
       "ITOT                                                              \n",
       "NYSE Arca                                             NYSE Arca   \n",
       "iShares Core S&P Total US Stock Mkt  Schwab US Broad Market ETF   \n",
       "\n",
       "                                                                               FNDB  \\\n",
       "ITOT                                                                                  \n",
       "NYSE Arca                                                                 NYSE Arca   \n",
       "iShares Core S&P Total US Stock Mkt  Schwab Fundamental U.S. Broad Market Index ETF   \n",
       "\n",
       "                                                             VT  \\\n",
       "ITOT                                                              \n",
       "NYSE Arca                                             NYSE Arca   \n",
       "iShares Core S&P Total US Stock Mkt  Vanguard Total World Stock   \n",
       "\n",
       "                                                             VTI  \\\n",
       "ITOT                                                               \n",
       "NYSE Arca                                              NYSE Arca   \n",
       "iShares Core S&P Total US Stock Mkt  Vanguard Total Stock Market   \n",
       "\n",
       "                                                                   VXUS  \\\n",
       "ITOT                                                                      \n",
       "NYSE Arca                                                     NYSE Arca   \n",
       "iShares Core S&P Total US Stock Mkt  Vanguard Total International Stock   \n",
       "\n",
       "                                                      VTHR  \n",
       "ITOT                                                        \n",
       "NYSE Arca                                        NYSE Arca  \n",
       "iShares Core S&P Total US Stock Mkt  Vanguard Russell 3000  "
      ]
     },
     "execution_count": 62,
     "metadata": {},
     "output_type": "execute_result"
    }
   ],
   "source": [
    "df = pd.DataFrame(etfs)\n",
    "df.set_index(['ITOT'])"
   ]
  },
  {
   "cell_type": "code",
   "execution_count": null,
   "id": "5238737e-0cb4-46e4-801c-69ffd7276761",
   "metadata": {},
   "outputs": [],
   "source": []
  }
 ],
 "metadata": {
  "kernelspec": {
   "display_name": "Python 3 (ipykernel)",
   "language": "python",
   "name": "python3"
  },
  "language_info": {
   "codemirror_mode": {
    "name": "ipython",
    "version": 3
   },
   "file_extension": ".py",
   "mimetype": "text/x-python",
   "name": "python",
   "nbconvert_exporter": "python",
   "pygments_lexer": "ipython3",
   "version": "3.12.7"
  }
 },
 "nbformat": 4,
 "nbformat_minor": 5
}
