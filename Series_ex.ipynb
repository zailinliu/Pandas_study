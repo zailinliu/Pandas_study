{
 "cells": [
  {
   "cell_type": "markdown",
   "id": "7bd55865-49f0-46e3-a8b0-90f6257d4273",
   "metadata": {},
   "source": [
    "# 판다스 용도\n",
    "## 데이터수집 정리하는 역할\n",
    "# 자료형식\n",
    "## 시리즈, 데이터프레임\n",
    "# 판다스 목적\n",
    "## 서로 다른 여러가지 유형의 데이터를 공통 포맷을 정리하는 것"
   ]
  },
  {
   "cell_type": "markdown",
   "id": "d21248bb-c882-41f6-9282-b61c353d6eaa",
   "metadata": {},
   "source": [
    "1. 시리즈\n",
    "   1.1 1차원 배열\n",
    "   1.2 list,tuple,dict를 시리즈로 만들 수 있다.  pd.Series()\n",
    "   1.3 list,tuple은 index를 지정하지 않으면 0,1,2\n",
    "   1.4 dict는 key는 index, value는 data가 된다."
   ]
  },
  {
   "cell_type": "code",
   "execution_count": 1,
   "id": "a54e55c2-c44f-428e-bef5-e8a236a41e3d",
   "metadata": {},
   "outputs": [
    {
     "name": "stdout",
     "output_type": "stream",
     "text": [
      "a    1\n",
      "b    2\n",
      "c    3\n",
      "dtype: int64\n"
     ]
    }
   ],
   "source": [
    "import pandas as pd\n",
    "dict_data = {'a' :1,'b':2,'c':3}\n",
    "sr = pd.Series (dict_data)\n",
    "print(sr)"
   ]
  },
  {
   "cell_type": "code",
   "execution_count": 2,
   "id": "acad3d74-9134-4e23-9194-646dbc96e1f9",
   "metadata": {},
   "outputs": [
    {
     "name": "stdout",
     "output_type": "stream",
     "text": [
      "[10, 20, 30, 40, 50, 60, 70, 80, 90, 100]\n"
     ]
    }
   ],
   "source": [
    "list_data = list(range(10,101,10))\n",
    "print(list_data)"
   ]
  },
  {
   "cell_type": "code",
   "execution_count": 3,
   "id": "2a640c28-f5f8-46e0-9a41-b86985357df8",
   "metadata": {},
   "outputs": [
    {
     "name": "stdout",
     "output_type": "stream",
     "text": [
      "0     10\n",
      "1     20\n",
      "2     30\n",
      "3     40\n",
      "4     50\n",
      "5     60\n",
      "6     70\n",
      "7     80\n",
      "8     90\n",
      "9    100\n",
      "dtype: int64\n"
     ]
    }
   ],
   "source": [
    "# 리스트 자료를 시리즈로 만들기\n",
    "list_sr = pd.Series (list_data)\n",
    "print(list_sr)"
   ]
  },
  {
   "cell_type": "code",
   "execution_count": 4,
   "id": "a86a5ec2-45d1-4d79-a4e0-b6a30617be64",
   "metadata": {},
   "outputs": [
    {
     "name": "stdout",
     "output_type": "stream",
     "text": [
      "a    100\n",
      "b    200\n",
      "c    300\n",
      "dtype: int64\n"
     ]
    }
   ],
   "source": [
    "# 리스트 자료를 시리즈로 만들기\n",
    "list_data = [100,200,300]\n",
    "list_sr = pd.Series (list_data , index=['a','b','c'])\n",
    "print(list_sr)"
   ]
  },
  {
   "cell_type": "code",
   "execution_count": 5,
   "id": "6758e975-0c35-47b5-a6c7-97d9969f7b94",
   "metadata": {},
   "outputs": [
    {
     "name": "stdout",
     "output_type": "stream",
     "text": [
      "a    300\n",
      "b    400\n",
      "dtype: int64\n"
     ]
    }
   ],
   "source": [
    "# tuple자료를 시리즈로 만들기\n",
    "tuple_data = (300,400)\n",
    "tuple_sr = pd.Series (tuple_data, index=['a','b'])\n",
    "print(tuple_sr)"
   ]
  },
  {
   "cell_type": "code",
   "execution_count": 6,
   "id": "1717f77c-76b0-4b25-8ba2-a6ae7d208d16",
   "metadata": {},
   "outputs": [
    {
     "name": "stdout",
     "output_type": "stream",
     "text": [
      "(5,)\n",
      "1\n"
     ]
    }
   ],
   "source": [
    "# Ex) 1-2\n",
    "list_data = ['2019-01-02',3.14,'ABC',100,True]\n",
    "sr = pd.Series (list_data)\n",
    "sr_index = sr.index\n",
    "sr_values = sr.values\n",
    "print(sr.shape) # 컴퓨터비젼에서 데이터 내용 파악할 때 많이 쓰는 명령어 * 중요함 *\n",
    "print(sr.ndim) # n dimension (차원) "
   ]
  },
  {
   "cell_type": "code",
   "execution_count": 7,
   "id": "1bfed598-de09-404f-84b1-0d11544eb678",
   "metadata": {},
   "outputs": [
    {
     "name": "stdout",
     "output_type": "stream",
     "text": [
      "딸기     5000\n",
      "바나나     300\n",
      "dtype: int64\n",
      "상품명 Index(['딸기', '바나나'], dtype='object')\n",
      "상품의 가격 [5000  300]\n"
     ]
    }
   ],
   "source": [
    "# 리스트 -> 시리즈\n",
    "# 시리즈 -> 리스트\n",
    "dic_data = {'딸기':5000,'바나나':300}\n",
    "sr_fruits = pd.Series(dic_data)\n",
    "print(sr_fruits)\n",
    "# 딸기,바나나를 리스트로 저장하기\n",
    "fruits = sr_fruits.index\n",
    "# 가격도 리스트로 저장하기\n",
    "price = sr_fruits.values\n",
    "print('상품명',fruits)\n",
    "print('상품의 가격', price)"
   ]
  },
  {
   "cell_type": "code",
   "execution_count": 8,
   "id": "9da276c6-5b77-407d-aba5-17df0c28e576",
   "metadata": {},
   "outputs": [
    {
     "name": "stdout",
     "output_type": "stream",
     "text": [
      "a    10\n",
      "b    20\n",
      "c    30\n",
      "d    40\n",
      "e    50\n",
      "f    60\n",
      "dtype: int64\n",
      "40\n"
     ]
    },
    {
     "name": "stderr",
     "output_type": "stream",
     "text": [
      "C:\\Users\\607-11\\AppData\\Local\\Temp\\ipykernel_13064\\1041186544.py:6: FutureWarning: Series.__getitem__ treating keys as positions is deprecated. In a future version, integer keys will always be treated as labels (consistent with DataFrame behavior). To access a value by position, use `ser.iloc[pos]`\n",
      "  print(sr[3])\n"
     ]
    }
   ],
   "source": [
    "# 그림 1-5 코드 해보기\n",
    "num_list = list(range(10,61,10))\n",
    "i_list = ['a','b','c','d','e','f']\n",
    "sr = pd.Series (num_list,i_list)\n",
    "print(sr)\n",
    "print(sr[3])"
   ]
  },
  {
   "cell_type": "code",
   "execution_count": 9,
   "id": "430bc4e9-2e51-4a8e-95b7-5e2eb4706f03",
   "metadata": {},
   "outputs": [
    {
     "name": "stdout",
     "output_type": "stream",
     "text": [
      "이름              영인\n",
      "생년월일    2010-05-01\n",
      "성별               여\n",
      "학생여부          True\n",
      "dtype: object\n",
      "이름              영인\n",
      "생년월일    2010-05-01\n",
      "성별               여\n",
      "dtype: object\n",
      "True\n",
      "이름              영인\n",
      "생년월일    2010-05-01\n",
      "dtype: object\n",
      "이름              영인\n",
      "생년월일    2010-05-01\n",
      "성별               여\n",
      "dtype: object\n"
     ]
    },
    {
     "name": "stderr",
     "output_type": "stream",
     "text": [
      "C:\\Users\\607-11\\AppData\\Local\\Temp\\ipykernel_13064\\1230825523.py:5: FutureWarning: Series.__getitem__ treating keys as positions is deprecated. In a future version, integer keys will always be treated as labels (consistent with DataFrame behavior). To access a value by position, use `ser.iloc[pos]`\n",
      "  print(sr[3])\n"
     ]
    }
   ],
   "source": [
    "tuple_data = ('영인', '2010-05-01','여',True)\n",
    "sr = pd.Series(tuple_data, index=['이름','생년월일','성별','학생여부'])\n",
    "print(sr)\n",
    "print(sr[['이름','생년월일','성별']]) # 여러개의 index []\n",
    "print(sr[3])\n",
    "# 만약 학생이면 이름과 생년월일을 출력하고 아니면 이름만 출력하세요\n",
    "if sr['학생여부']:\n",
    "    print(sr [['이름','생년월일']])\n",
    "else :\n",
    "    print(sr['이름'])\n",
    "# 이름부터 성별까지 연속적인 인덱스 자료 선택하기\n",
    "print(sr['이름':'성별'])"
   ]
  },
  {
   "cell_type": "code",
   "execution_count": 10,
   "id": "5a97de53-ade5-4d4f-9487-1baeceef8e05",
   "metadata": {},
   "outputs": [
    {
     "name": "stdout",
     "output_type": "stream",
     "text": [
      "Series([], dtype: object)\n",
      "100    5\n",
      "200    5\n",
      "300    5\n",
      "dtype: int64\n"
     ]
    }
   ],
   "source": [
    "sr_empty = pd.Series()\n",
    "print(sr_empty)\n",
    "sr_5 = pd.Series(5)\n",
    "sr_5 = pd.Series(5,index=[100,200,300])\n",
    "print(sr_5)"
   ]
  },
  {
   "cell_type": "code",
   "execution_count": 11,
   "id": "81cf2b67-dee9-4605-8b46-4251dbb76144",
   "metadata": {},
   "outputs": [
    {
     "name": "stdout",
     "output_type": "stream",
     "text": [
      "0      0\n",
      "1      0\n",
      "2      0\n",
      "3      0\n",
      "4      0\n",
      "      ..\n",
      "96     0\n",
      "97     0\n",
      "98     0\n",
      "99     0\n",
      "100    0\n",
      "Length: 101, dtype: int64\n"
     ]
    }
   ],
   "source": [
    "# 데이터 0 인덱스 0~10\n",
    "sr_empty = pd.Series()\n",
    "sr_5 = pd.Series(0,index=range(0,101,1))\n",
    "print(sr_5)"
   ]
  },
  {
   "cell_type": "code",
   "execution_count": 12,
   "id": "274338a9-2320-4c72-aaff-84f094b21900",
   "metadata": {},
   "outputs": [
    {
     "name": "stdout",
     "output_type": "stream",
     "text": [
      "a    100\n",
      "b    200\n",
      "c    300\n",
      "d    400\n",
      "e    500\n",
      "dtype: int64\n"
     ]
    }
   ],
   "source": [
    "# 문제 1)\n",
    "num_list = [100,200,300,400,500]\n",
    "i_list= ['a','b','c','d','e']\n",
    "sr = pd.Series(num_list, index = i_list)\n",
    "print(sr)"
   ]
  },
  {
   "cell_type": "code",
   "execution_count": 13,
   "id": "19eee402-7bea-4120-88dd-0d2bc99ccb42",
   "metadata": {},
   "outputs": [
    {
     "name": "stdout",
     "output_type": "stream",
     "text": [
      "b    20\n",
      "d    40\n",
      "dtype: int64\n"
     ]
    }
   ],
   "source": [
    "# 문제 2)\n",
    "s = pd.Series([10, 20, 30, 40, 50], index=['a', 'b', 'c', 'd', 'e'])\n",
    "print(s[['b','d']])"
   ]
  },
  {
   "cell_type": "code",
   "execution_count": 16,
   "id": "f2035e1a-91fd-43aa-badd-d657b1a96a54",
   "metadata": {},
   "outputs": [
    {
     "name": "stdout",
     "output_type": "stream",
     "text": [
      "C    35\n",
      "D    45\n",
      "E    55\n",
      "dtype: int64\n"
     ]
    }
   ],
   "source": [
    "# 문제 3)\n",
    "s = pd.Series([15, 25, 35, 45, 55], index=['A', 'B', 'C', 'D', 'E'])\n",
    "print(s[s > 30])"
   ]
  },
  {
   "cell_type": "code",
   "execution_count": 17,
   "id": "f792d95e-fb0c-416d-8b87-3974aace7061",
   "metadata": {},
   "outputs": [
    {
     "name": "stdout",
     "output_type": "stream",
     "text": [
      "0    15\n",
      "1    20\n",
      "2    25\n",
      "3    30\n",
      "4    35\n",
      "dtype: int64\n"
     ]
    }
   ],
   "source": [
    "# 문제 4)\n",
    "s = pd.Series([5, 10, 15, 20, 25])\n",
    "s_plus = s+10\n",
    "print(s_plus)"
   ]
  },
  {
   "cell_type": "code",
   "execution_count": 19,
   "id": "75b18c07-89fb-4bc6-86bc-78adcb723311",
   "metadata": {},
   "outputs": [
    {
     "name": "stdout",
     "output_type": "stream",
     "text": [
      "95\n"
     ]
    }
   ],
   "source": [
    "# 문제 5)\n",
    "scores = {\n",
    "    'Python': 95,\n",
    "    'Math': 88,\n",
    "    'English': 76,\n",
    "    'History': 82\n",
    "}\n",
    "sr_scores = pd.Series (scores)\n",
    "print(sr_scores['Python'])"
   ]
  },
  {
   "cell_type": "code",
   "execution_count": 23,
   "id": "a4686f1b-0439-4dc6-a75f-6028ee20ab49",
   "metadata": {},
   "outputs": [
    {
     "name": "stdout",
     "output_type": "stream",
     "text": [
      "A    12\n",
      "B    24\n",
      "C    36\n",
      "D    48\n",
      "E    60\n",
      "dtype: int64\n"
     ]
    }
   ],
   "source": [
    "# 문제 6)\n",
    "s = pd.Series([12, 24, 36, 48, 60])\n",
    "s.index=['A','B','C','D','E']\n",
    "print(s)"
   ]
  },
  {
   "cell_type": "code",
   "execution_count": 27,
   "id": "2302510e-e070-4414-8b33-6a05cfac1a8d",
   "metadata": {},
   "outputs": [
    {
     "name": "stdout",
     "output_type": "stream",
     "text": [
      "85.6\n",
      "85.6\n"
     ]
    }
   ],
   "source": [
    "# 문제 7)\n",
    "s = pd.Series([80, 90, 75, 95, 88])\n",
    "print(sum(s) / len(s))\n",
    "# 문제 7) 쉬운방법\n",
    "s = pd.Series([80, 90, 75, 95, 88])\n",
    "print(s.mean()) #평균값 구하는 함수 mean()\n"
   ]
  },
  {
   "cell_type": "code",
   "execution_count": 31,
   "id": "d4259a43-5e12-4a83-bc44-191aebb1df08",
   "metadata": {},
   "outputs": [
    {
     "name": "stdout",
     "output_type": "stream",
     "text": [
      "1    16\n",
      "3    33\n",
      "0    42\n",
      "2    58\n",
      "4    95\n",
      "dtype: int64\n"
     ]
    }
   ],
   "source": [
    "# 문제 8)\n",
    "s = pd.Series([42, 16, 58, 33, 95])\n",
    "print(s.sort_values())"
   ]
  },
  {
   "cell_type": "code",
   "execution_count": 42,
   "id": "95f555eb-19b9-4fb6-973b-10ead890bc0d",
   "metadata": {},
   "outputs": [
    {
     "name": "stdout",
     "output_type": "stream",
     "text": [
      "0    10\n",
      "1     0\n",
      "2    30\n",
      "3     0\n",
      "4    50\n",
      "dtype: int64\n",
      "0    10\n",
      "1     0\n",
      "2    30\n",
      "3     0\n",
      "4    50\n",
      "dtype: int64\n"
     ]
    }
   ],
   "source": [
    "# 문제 9)\n",
    "import numpy as np\n",
    "\n",
    "s = pd.Series([10, np.nan, 30, np.nan, 50])\n",
    "np.nan = int(0)\n",
    "print(s)\n",
    "# 문제 9)\n",
    "import numpy as np\n",
    "\n",
    "s = pd.Series([10, np.nan, 30, np.nan, 50])\n",
    "s_mean = s.mean()\n",
    "s_0 = s.fillna(s_mean)\n",
    "print(s_0)"
   ]
  },
  {
   "cell_type": "code",
   "execution_count": 43,
   "id": "a1eb95a8-a4f7-49d7-997d-22f3c1c2f54a",
   "metadata": {},
   "outputs": [
    {
     "name": "stdout",
     "output_type": "stream",
     "text": [
      "A    True\n",
      "C    True\n",
      "E    True\n",
      "dtype: bool\n"
     ]
    }
   ],
   "source": [
    "# 문제 10)\n",
    "s = pd.Series([True, False, True, False, True], index=['A', 'B', 'C', 'D', 'E'])\n",
    "print(s[s])"
   ]
  },
  {
   "cell_type": "code",
   "execution_count": null,
   "id": "c3d6fecf-acd5-4707-b937-a4bd47006502",
   "metadata": {},
   "outputs": [],
   "source": [
    "# 시리즈로 만들고, 30이상인 것만 출력하기\n",
    "s_sum = [10,30,20,100]\n",
    "sr = pd.Series(s_sum)\n",
    "sr[sr>=30]"
   ]
  }
 ],
 "metadata": {
  "kernelspec": {
   "display_name": "ai",
   "language": "python",
   "name": "ai"
  },
  "language_info": {
   "codemirror_mode": {
    "name": "ipython",
    "version": 3
   },
   "file_extension": ".py",
   "mimetype": "text/x-python",
   "name": "python",
   "nbconvert_exporter": "python",
   "pygments_lexer": "ipython3",
   "version": "3.10.16"
  }
 },
 "nbformat": 4,
 "nbformat_minor": 5
}
